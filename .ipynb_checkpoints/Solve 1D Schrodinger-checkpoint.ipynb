{
 "cells": [
  {
   "cell_type": "code",
   "execution_count": 10,
   "metadata": {},
   "outputs": [
    {
     "name": "stdout",
     "output_type": "stream",
     "text": [
      "Populating the interactive namespace from numpy and matplotlib\n"
     ]
    }
   ],
   "source": [
    "from modules import solve_1D_schrodinger as s1ds\n",
    "%pylab notebook\n",
    "import os"
   ]
  },
  {
   "cell_type": "code",
   "execution_count": 12,
   "metadata": {},
   "outputs": [],
   "source": [
    "s=s1ds.setup_1d_schrodinger(N=600,pad=0.2)"
   ]
  },
  {
   "cell_type": "code",
   "execution_count": 13,
   "metadata": {},
   "outputs": [],
   "source": [
    "s.get_potential(wtype=\"SW\")\n",
    "s.get_eigen()\n",
    "s.gen_movie()"
   ]
  },
  {
   "cell_type": "code",
   "execution_count": 14,
   "metadata": {},
   "outputs": [
    {
     "data": {
      "text/plain": [
       "array([6.60623653e+00, 2.64241931e+01, 5.94516087e+01, 1.05684707e+02,\n",
       "       1.65118186e+02, 2.37745200e+02, 3.23557339e+02, 4.22544602e+02,\n",
       "       5.34695360e+02, 6.59996317e+02, 7.98432460e+02, 9.49987000e+02,\n",
       "       1.11464130e+03, 1.29237478e+03, 1.48316484e+03, 1.68698671e+03,\n",
       "       1.90381334e+03, 2.13361518e+03, 2.37636001e+03, 2.63201263e+03,\n",
       "       2.90053460e+03, 3.18188380e+03, 3.47601393e+03, 3.78287388e+03,\n",
       "       4.10240690e+03, 4.43454952e+03, 4.77923012e+03, 5.13636694e+03,\n",
       "       5.50586537e+03, 5.88761399e+03, 6.28147882e+03, 6.68729427e+03,\n",
       "       7.10484872e+03, 7.53385947e+03, 7.97392617e+03, 8.42443362e+03,\n",
       "       8.88431386e+03, 9.35128475e+03, 9.81741388e+03])"
      ]
     },
     "execution_count": 14,
     "metadata": {},
     "output_type": "execute_result"
    }
   ],
   "source": [
    "s.En[s.En<0]+s.V0"
   ]
  },
  {
   "cell_type": "code",
   "execution_count": 15,
   "metadata": {},
   "outputs": [
    {
     "data": {
      "text/plain": [
       "[<matplotlib.lines.Line2D at 0x7fc0432f0590>]"
      ]
     },
     "execution_count": 15,
     "metadata": {},
     "output_type": "execute_result"
    }
   ],
   "source": [
    "figure()\n",
    "plot(s.V)"
   ]
  },
  {
   "cell_type": "code",
   "execution_count": null,
   "metadata": {},
   "outputs": [],
   "source": []
  }
 ],
 "metadata": {
  "kernelspec": {
   "display_name": "Python 3",
   "language": "python",
   "name": "python3"
  },
  "language_info": {
   "codemirror_mode": {
    "name": "ipython",
    "version": 3
   },
   "file_extension": ".py",
   "mimetype": "text/x-python",
   "name": "python",
   "nbconvert_exporter": "python",
   "pygments_lexer": "ipython3",
   "version": "3.7.10"
  },
  "toc": {
   "base_numbering": 1,
   "nav_menu": {},
   "number_sections": true,
   "sideBar": true,
   "skip_h1_title": false,
   "title_cell": "Table of Contents",
   "title_sidebar": "Contents",
   "toc_cell": false,
   "toc_position": {},
   "toc_section_display": true,
   "toc_window_display": true
  }
 },
 "nbformat": 4,
 "nbformat_minor": 2
}
