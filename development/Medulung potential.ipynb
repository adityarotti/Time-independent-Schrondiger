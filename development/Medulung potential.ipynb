{
 "cells": [
  {
   "cell_type": "code",
   "execution_count": 74,
   "metadata": {
    "collapsed": false
   },
   "outputs": [
    {
     "name": "stdout",
     "output_type": "stream",
     "text": [
      "Populating the interactive namespace from numpy and matplotlib\n",
      "mkdir: ./figures/: File exists\r\n"
     ]
    }
   ],
   "source": [
    "%pylab notebook\n",
    "import numpy as np\n",
    "import scipy as sp\n",
    "from scipy.linalg import circulant\n",
    "import itertools\n",
    "import os\n",
    "\n",
    "figpath=\"./figures/\"\n",
    "!mkdir $figpath"
   ]
  },
  {
   "cell_type": "code",
   "execution_count": 96,
   "metadata": {
    "collapsed": true
   },
   "outputs": [],
   "source": [
    "N=40 ; V0=1000\n",
    "x=np.linspace(-1.,1.,N) ; y=np.linspace(-1.,1.,N) ; h=np.mean(x[1:]-x[:-1]) \n",
    "\n",
    "z=[t for t in itertools.product(x,y)]\n",
    "nx=arange(N) ; zidx=[t for t in itertools.product(nx,nx)]"
   ]
  },
  {
   "cell_type": "code",
   "execution_count": 97,
   "metadata": {
    "collapsed": true
   },
   "outputs": [],
   "source": [
    "chrg=np.zeros((N,N),float)\n",
    "\n",
    "V=np.zeros((N,N),float)\n",
    "\n",
    "for idx in zidx:\n",
    "    chrg[idx[0],idx[1]]=(-1)**(idx[0]+idx[1])\n",
    "    \n",
    "for i,t1 in enumerate(z):\n",
    "    for j,t2 in enumerate(z):\n",
    "        if j!=i:\n",
    "            d=np.sqrt((t1[0]-t2[0])**2. + (t1[1]-t2[1])**2. )\n",
    "            V[zidx[i][0],zidx[i][1]]=V[zidx[i][0],zidx[i][1]] + chrg[zidx[j][0],zidx[j][1]]*chrg[zidx[i][0],zidx[i][1]]/d\n",
    "#V=V0*V/abs(np.max(V))-V0"
   ]
  },
  {
   "cell_type": "code",
   "execution_count": 98,
   "metadata": {
    "collapsed": false
   },
   "outputs": [
    {
     "data": {
      "text/plain": [
       "<matplotlib.colorbar.Colorbar at 0x1a16cbcd0>"
      ]
     },
     "execution_count": 98,
     "metadata": {},
     "output_type": "execute_result"
    }
   ],
   "source": [
    "figure()\n",
    "imshow(chrg)\n",
    "\n",
    "figure()\n",
    "imshow(V)\n",
    "colorbar()"
   ]
  },
  {
   "cell_type": "code",
   "execution_count": 99,
   "metadata": {
    "collapsed": true
   },
   "outputs": [],
   "source": [
    "O=np.zeros((len(z),len(z)),float)\n",
    "Ov=np.zeros((len(z),len(z)),float)"
   ]
  },
  {
   "cell_type": "code",
   "execution_count": 100,
   "metadata": {
    "collapsed": true
   },
   "outputs": [],
   "source": [
    "for i,t1 in enumerate(z):        \n",
    "    Ov[i,i]=V[zidx[i][0],zidx[i][1]]\n",
    "    for j,t2 in enumerate(z):\n",
    "        if np.all(t1==t2):\n",
    "            O[i,j]=-4./h/h\n",
    "        if t1[0]!=t2[0] and t1[1]!=t2[1]:\n",
    "            O[i,j]=0\n",
    "        elif abs(abs(t1[0]-t2[0])/h-1.)<1.e-10:\n",
    "            O[i,j]=1./h/h\n",
    "        elif abs(abs(t1[1]-t2[1])/h-1.)<1.e-10:\n",
    "            O[i,j]=1./h/h"
   ]
  },
  {
   "cell_type": "code",
   "execution_count": 106,
   "metadata": {
    "collapsed": false
   },
   "outputs": [
    {
     "data": {
      "text/plain": [
       "<matplotlib.colorbar.Colorbar at 0x1b3efae90>"
      ]
     },
     "execution_count": 106,
     "metadata": {},
     "output_type": "execute_result"
    }
   ],
   "source": [
    "figure()\n",
    "imshow(-O,origin=\"True\")\n",
    "colorbar()"
   ]
  },
  {
   "cell_type": "code",
   "execution_count": 107,
   "metadata": {
    "collapsed": true
   },
   "outputs": [],
   "source": [
    "En,vec=np.linalg.eigh(-O+Ov)"
   ]
  },
  {
   "cell_type": "code",
   "execution_count": 108,
   "metadata": {
    "collapsed": false,
    "scrolled": false
   },
   "outputs": [],
   "source": [
    "ioff()\n",
    "for idx in range(20):\n",
    "    vis_vec=np.zeros((N,N),float)\n",
    "    for i,t1 in enumerate(z):        \n",
    "        vis_vec[zidx[i][0],zidx[i][1]]=vec[i,idx]\n",
    "    \n",
    "    figure()\n",
    "    imshow(vis_vec,origin=\"lower\")\n",
    "    title(\"E\" + str(idx) + \"=\" +str(round(En[idx],3)))\n",
    "    colorbar()\n",
    "    savefig(figpath + \"eigenstate\" + str(idx).zfill(2) + \".jpeg\")\n",
    "    \n",
    "workdir=os.getcwd()\n",
    "os.chdir(figpath)\n",
    "cmd=\"convert -quality 99 -density 150 -delay 120 -loop 0 eigenstate*.jpeg eigen_movie.gif\"\n",
    "os.system(cmd)\n",
    "os.system(\"rm *.jpeg\")\n",
    "os.chdir(workdir)"
   ]
  },
  {
   "cell_type": "code",
   "execution_count": null,
   "metadata": {
    "collapsed": true
   },
   "outputs": [],
   "source": []
  }
 ],
 "metadata": {
  "kernelspec": {
   "display_name": "Python 2",
   "language": "python",
   "name": "python2"
  },
  "language_info": {
   "codemirror_mode": {
    "name": "ipython",
    "version": 2
   },
   "file_extension": ".py",
   "mimetype": "text/x-python",
   "name": "python",
   "nbconvert_exporter": "python",
   "pygments_lexer": "ipython2",
   "version": "2.7.13"
  }
 },
 "nbformat": 4,
 "nbformat_minor": 2
}
